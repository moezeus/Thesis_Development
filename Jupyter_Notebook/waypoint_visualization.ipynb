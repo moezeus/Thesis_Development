{
 "cells": [
  {
   "cell_type": "code",
   "execution_count": 1,
   "id": "b58fe2ac-1499-477d-843e-0023a6e1dd3e",
   "metadata": {},
   "outputs": [
    {
     "name": "stderr",
     "output_type": "stream",
     "text": [
      "Failed to load Python extension for LZ4 support. LZ4 compression will not be available.\n"
     ]
    }
   ],
   "source": [
    "import rosbag\n",
    "import matplotlib.pyplot as plt\n",
    "import numpy as np\n",
    "from scipy.signal import savgol_filter\n",
    "%matplotlib inline"
   ]
  },
  {
   "cell_type": "code",
   "execution_count": 2,
   "id": "b824f449-f1a0-452a-ab28-d411b0298a2c",
   "metadata": {},
   "outputs": [],
   "source": [
    "def to_euler(x, y, z, w):\n",
    "    \"\"\"Return as xyz (roll pitch yaw) Euler angles.\"\"\"\n",
    "    roll = np.arctan2(2 * (w * x + y * z), 1 - 2 * (x**2 + y**2))\n",
    "    pitch = np.arcsin(2 * (w * y - z * x))\n",
    "    yaw = np.arctan2(2 * (w * z + x * y), 1 - 2 * (y**2 + z**2))\n",
    "    return np.array([roll, pitch, yaw])"
   ]
  },
  {
   "cell_type": "code",
   "execution_count": 3,
   "id": "9734a5a1-dd61-4fa3-95eb-dae2ad1b550d",
   "metadata": {},
   "outputs": [],
   "source": [
    "def wrap_angle(angle):\n",
    "    return (angle + np.pi) % (2 * np.pi) - np.pi"
   ]
  },
  {
   "cell_type": "code",
   "execution_count": 19,
   "id": "c4570ddf-d01f-43e0-ac95-8f0656df78a8",
   "metadata": {},
   "outputs": [
    {
     "name": "stdout",
     "output_type": "stream",
     "text": [
      "header: \n",
      "  seq: 1\n",
      "  stamp: \n",
      "    secs: 1635324705\n",
      "    nsecs: 663433074\n",
      "  frame_id: \"agv_trajectory_control_game_theory\"\n",
      "action_steer: 0.0\n",
      "action_throttle: 0.0\n",
      "action_brake: 0.0\n",
      "error_lateral: 225.8000030517578\n",
      "error_yaw: 116.5999984741211\n",
      "error_speed: 3.140000104904175\n",
      "actual_x: 225.8\n",
      "actual_y: 119.9\n",
      "actual_yaw: 218.8000030517578\n",
      "actual_speed: 119.9\n",
      "target_x: 218.8\n",
      "target_y: 119.9\n",
      "target_brake: 3.14\n",
      "pmap: []\n",
      "potential_x: [218.8000030517578]\n",
      "potential_y: [119.9000015258789]\n",
      "deg_ref_yaw: 0.0\n",
      "deg_actual_yaw: 0.0\n",
      "deg_error_yaw: 0.0\n"
     ]
    }
   ],
   "source": [
    "bag = rosbag.Bag('rosbag/27Okt_Cooperative.bag')\n",
    "bag.get_type_and_topic_info()\n",
    "content = []\n",
    "# print(bag)\n",
    "# input_steer = []\n",
    "for topic, msg, _ in bag.read_messages(topics=['/game_theory_AV']):\n",
    "    content.append(msg)\n",
    "print(content[0])"
   ]
  },
  {
   "cell_type": "code",
   "execution_count": 12,
   "id": "a0339169-02a3-441c-985b-f48df4155da7",
   "metadata": {},
   "outputs": [],
   "source": [
    "# untuk plot estimator\n",
    "# x_estimator = []\n",
    "# y_estimator = []\n",
    "# yaw_estimator = []\n",
    "# waktu_estimator = []\n",
    "\n",
    "# plot trajectory\n",
    "x_now = []\n",
    "y_now = []\n",
    "x_target_sigmoid = []\n",
    "y_target_sigmoid = []\n",
    "x_sub_sigmoid = []\n",
    "y_sub_sigmoid = []\n",
    "x_sigmoid = []\n",
    "y_sigmoid = []\n",
    "\n",
    "for topic, msg, _ in bag.read_messages(topics=['/control_signal_game']):\n",
    "    x_now.append(msg.actual_x)\n",
    "    y_now.append(msg.actual_y)\n",
    "    x_target_sigmoid.append(msg.target_x)\n",
    "    y_target_sigmoid.append(msg.target_y)\n",
    "    x_sub_sigmoid.append(msg.actual_yaw)\n",
    "    y_sub_sigmoid.append(msg.actual_speed)\n",
    "    x_sigmoid.append(msg.potential_x)\n",
    "    y_sigmoid.append(msg.potential_y)\n",
    "#     yaw_estimator.append(msg.yaw_gnss_fr)\n",
    "#     waktu_estimator.append(msg.header.stamp.to_sec())\n",
    "# yaw_estimator = wrap_angle(np.array(yaw_estimator))"
   ]
  },
  {
   "cell_type": "code",
   "execution_count": 20,
   "id": "4e1496c1-f391-451e-90eb-9f24003c77d0",
   "metadata": {},
   "outputs": [],
   "source": [
    "# untuk plot estimator\n",
    "# x_estimator = []\n",
    "# y_estimator = []\n",
    "# yaw_estimator = []\n",
    "# waktu_estimator = []\n",
    "\n",
    "# plot trajectory\n",
    "x_now = []\n",
    "y_now = []\n",
    "x_target_sigmoid = []\n",
    "y_target_sigmoid = []\n",
    "x_other = []\n",
    "y_other = []\n",
    "x_sigmoid = []\n",
    "y_sigmoid = []\n",
    "yaw_now = []\n",
    "\n",
    "for topic, msg, _ in bag.read_messages(topics=['/game_theory_AV']):\n",
    "    x_now.append(msg.actual_x)\n",
    "    y_now.append(msg.actual_y)\n",
    "    yaw_now.append(msg.target_brake)\n",
    "#     x_target_sigmoid.append(msg.target_x)\n",
    "#     y_target_sigmoid.append(msg.target_y)\n",
    "    x_other.append(msg.error_lateral)\n",
    "    y_other.append(msg.error_yaw)\n",
    "    x_sigmoid.append(msg.potential_x)\n",
    "    y_sigmoid.append(msg.potential_y)\n",
    "#     yaw_estimator.append(msg.yaw_gnss_fr)\n",
    "#     waktu_estimator.append(msg.header.stamp.to_sec())\n",
    "# yaw_estimator = wrap_angle(np.array(yaw_estimator))"
   ]
  },
  {
   "cell_type": "code",
   "execution_count": 21,
   "id": "c6f316d9-bd88-461f-87b3-ddf5fac209ab",
   "metadata": {},
   "outputs": [
    {
     "name": "stdout",
     "output_type": "stream",
     "text": [
      "185 185 185\n"
     ]
    }
   ],
   "source": [
    "print(len(x_now),len(x_sigmoid),len(yaw_now))"
   ]
  },
  {
   "cell_type": "code",
   "execution_count": 7,
   "id": "3182cda2-5732-4c25-838e-520bef004993",
   "metadata": {},
   "outputs": [],
   "source": [
    "# modif untuk trajectory\n",
    "# dst = 0.5 \n",
    "# # dst = 0.05\n",
    "# X = np.copy(x_estimator)\n",
    "# Y = np.copy(y_estimator)\n",
    "# T = np.copy(waktu_estimator)\n",
    "# YAW = np.copy(yaw_estimator)\n",
    "\n",
    "# filter_x = [X[0]]\n",
    "# filter_y = [Y[0]]\n",
    "# filter_yaw = [YAW[0]]\n",
    "# filter_t = [T[0]]\n",
    "\n",
    "# for i in range(1, X.shape[0]):\n",
    "#     dist = np.sqrt((X[i] - filter_x[-1])**2 + (Y[i] - filter_y[-1])**2)\n",
    "# #     while dist >= dst:\n",
    "#     if dist >= dst:\n",
    "#         filter_x.append(X[i])\n",
    "#         filter_y.append(Y[i])\n",
    "#         filter_yaw.append(YAW[i])\n",
    "#         filter_t.append(T[i])\n",
    "#         dist = np.sqrt((X[i] - wp_x[-1])**2 + (Y[i] - wp_y[-1])**2)"
   ]
  },
  {
   "cell_type": "code",
   "execution_count": 8,
   "id": "5c802f97-c69e-490f-be68-bfa3cb428cd5",
   "metadata": {},
   "outputs": [],
   "source": [
    "# print(len(x_estimator), len(filter_x))"
   ]
  },
  {
   "cell_type": "code",
   "execution_count": 22,
   "id": "b2020edb-ccda-428c-998a-50d2aa8c6bd6",
   "metadata": {},
   "outputs": [],
   "source": [
    "def create_vehicle_safe_zone(x, y, yaw):\n",
    "    X_others = x\n",
    "    Y_others = y\n",
    "    yaw_others = yaw\n",
    "#     print(type(X_others),type(Y_others),type(yaw_others))\n",
    "    l_car = 5\n",
    "    w_car = 2\n",
    "    l_car_safe = 1.1 * l_car\n",
    "    w_car_safe = 1.25 * w_car\n",
    "#     l_car_safe = l_car\n",
    "#     w_car_safe = w_car\n",
    "\n",
    "    safe_zone = [[X_others-l_car_safe/2*np.cos(yaw_others)+w_car_safe/2*np.sin(yaw_others),\n",
    "            Y_others-l_car_safe/2*np.sin(yaw_others)-w_car_safe/2*np.cos(yaw_others)],\n",
    "            [X_others-l_car_safe/2*np.cos(yaw_others)-w_car_safe/2*np.sin(yaw_others),\n",
    "            Y_others-l_car_safe/2*np.sin(yaw_others)+w_car_safe/2*np.cos(yaw_others)],\n",
    "            [X_others+l_car_safe/2*np.cos(yaw_others)-w_car_safe/2*np.sin(yaw_others),\n",
    "            Y_others+l_car_safe/2*np.sin(yaw_others)+w_car_safe/2*np.cos(yaw_others)],\n",
    "            [X_others+l_car_safe/2*np.cos(yaw_others)+w_car_safe/2*np.sin(yaw_others),\n",
    "            Y_others+l_car_safe/2*np.sin(yaw_others)-w_car_safe/2*np.cos(yaw_others)]]\n",
    "    return safe_zone"
   ]
  },
  {
   "cell_type": "code",
   "execution_count": 23,
   "id": "a33f958c-8406-4674-b4c8-e8ddbd3b150d",
   "metadata": {},
   "outputs": [],
   "source": [
    "# df = pd.read_csv(\"test2.csv\")\n",
    "# len(df2['Time step'])\n",
    "# print(len(df['Time step'])-14, len(df2['Time step']))\n",
    "# df['long'][0]\n",
    "!rm -r movement_plot_animation_steps"
   ]
  },
  {
   "cell_type": "code",
   "execution_count": 24,
   "id": "616c12af-bae7-4d59-a7d8-7c3895c3decc",
   "metadata": {},
   "outputs": [
    {
     "name": "stdout",
     "output_type": "stream",
     "text": [
      "Frame rendering started...\n",
      "Frame rendering finished.\n"
     ]
    }
   ],
   "source": [
    "from IPython.display import Image\n",
    "import matplotlib.pyplot as plt\n",
    "import numpy as np\n",
    "from shapely.geometry import Polygon\n",
    "# import math\n",
    "\n",
    "# plot_lim = [[np.min(df['long'])-0.00010, np.max(df['long']+0.00010)],\n",
    "#             [np.min(df['lat'])-0.00010, np.max(df['lat'])+0.00010]]\n",
    "\n",
    "plot_lim = [[120 , 235],\n",
    "            [100, 140]]\n",
    "\n",
    "filename = 'movement_plot_animation'\n",
    "buf_folder = filename+'_steps'\n",
    "!mkdir $buf_folder\n",
    "figsize=(15,15)\n",
    "dpi=100\n",
    "framecounter=0\n",
    "# redmi_long = []\n",
    "# redmi_lat = []\n",
    "# samsung_long = []\n",
    "# samsung_lat = []\n",
    "x_plot = []\n",
    "y_plot = []\n",
    "y_ot = []\n",
    "x_ot = []\n",
    "\n",
    "x_br = 190.8\n",
    "y_br = 119.9\n",
    "\n",
    "print(\"Frame rendering started...\")\n",
    "for i in range(len(x_now)):\n",
    "    # i = len(log[\"x_head\"])-2\n",
    "    fig = plt.figure(figsize=figsize, dpi=dpi)\n",
    "    ax1 = fig.add_subplot(111)\n",
    "    \n",
    "    # Path visual\n",
    "    x_plot = x_now[i]\n",
    "    y_plot = y_now[i]\n",
    "    x_ot = x_other[i]\n",
    "    y_ot = y_other[i]\n",
    "    x_sigm = x_sigmoid[i]\n",
    "    y_sigm = y_sigmoid[i]\n",
    "    \n",
    "    # safe zone\n",
    "    sz = create_vehicle_safe_zone(x_plot, y_plot, yaw_now[i])\n",
    "    xs,ys = Polygon(sz).exterior.xy\n",
    "    \n",
    "    # safe zone other\n",
    "    szot = create_vehicle_safe_zone(x_ot, y_ot, 3.14)\n",
    "    xsot, ysot = Polygon(szot).exterior.xy\n",
    "    \n",
    "    # static obstacle\n",
    "    AV_br = create_vehicle_safe_zone(x_br, y_br, 3.14)\n",
    "    xbr,ybr= Polygon(AV_br).exterior.xy\n",
    "        \n",
    "    # path plot\n",
    "    ax1.scatter(x=x_plot, y=y_plot, c='blue',marker='x', label=\"vehicle position\")\n",
    "    ax1.scatter(x=x_ot, y=y_ot, c='green',marker='x', label=\"other_vehicle\")\n",
    "    ax1.scatter(x=x_br, y=y_br, c='red',marker='o', label=\"broken vehicle\")\n",
    "    ax1.plot(x_sigm, y_sigm, '--', label=\"sigmoid path\")\n",
    "    \n",
    "    # initial position\n",
    "    plt.scatter(x_now[0], y_now[0], c=\"g\", s=35)\n",
    "    \n",
    "    #target position\n",
    "    plt.scatter(129.4, 116.6, c=\"r\", s=35)   \n",
    "    \n",
    "    # plot middle line\n",
    "    x_coordinates = [125, 230]\n",
    "    y_coordinates = [118.3, 118.3]\n",
    "    plt.plot(x_coordinates, y_coordinates)\n",
    "    \n",
    "    #plot off-road box\n",
    "    Upper_RoadBound_rectangle = Polygon(\n",
    "        [[125, 121.4],\n",
    "         [125, 122.4],\n",
    "         [230, 122.4],\n",
    "         [230, 121.4]])\n",
    "                \n",
    "    Lower_RoadBound_rectangle = Polygon(\n",
    "        [[125, 114],\n",
    "         [125, 115],\n",
    "         [230, 115],\n",
    "         [230, 114]])\n",
    "\n",
    "    x1,y1 = Upper_RoadBound_rectangle.exterior.xy\n",
    "    x2,y2 = Lower_RoadBound_rectangle.exterior.xy\n",
    "    plt.plot(x1,y1,x2,y2,xs,ys,xbr,ybr,xsot,ysot)\n",
    "    \n",
    "    # plt.grid(zorder=1)\n",
    "    plt.xlabel(\"X\")\n",
    "    plt.ylabel(\"Y\")\n",
    "    plt.axis('square')\n",
    "#     plt.axis(\"equal\")\n",
    "    plt.xlim(plot_lim[0])\n",
    "    plt.ylim(plot_lim[1])\n",
    "    plt.legend()\n",
    "#     plt.axis(\"equal\")\n",
    "    framecounter = framecounter + 1\n",
    "    framename=buf_folder+'/'+'frame'+str(framecounter).zfill(10)+'.png'\n",
    "    plt.savefig(framename)\n",
    "    plt.close(fig)\n",
    "print(\"Frame rendering finished.\")"
   ]
  },
  {
   "cell_type": "code",
   "execution_count": 25,
   "id": "e51d3a1a-3dc5-4b31-8506-4d37842deca6",
   "metadata": {},
   "outputs": [
    {
     "name": "stdout",
     "output_type": "stream",
     "text": [
      "frame_size 1500x1500\n",
      "ffmpeg version 3.4.8-0ubuntu0.2 Copyright (c) 2000-2020 the FFmpeg developers\n",
      "  built with gcc 7 (Ubuntu 7.5.0-3ubuntu1~18.04)\n",
      "  configuration: --prefix=/usr --extra-version=0ubuntu0.2 --toolchain=hardened --libdir=/usr/lib/x86_64-linux-gnu --incdir=/usr/include/x86_64-linux-gnu --enable-gpl --disable-stripping --enable-avresample --enable-avisynth --enable-gnutls --enable-ladspa --enable-libass --enable-libbluray --enable-libbs2b --enable-libcaca --enable-libcdio --enable-libflite --enable-libfontconfig --enable-libfreetype --enable-libfribidi --enable-libgme --enable-libgsm --enable-libmp3lame --enable-libmysofa --enable-libopenjpeg --enable-libopenmpt --enable-libopus --enable-libpulse --enable-librubberband --enable-librsvg --enable-libshine --enable-libsnappy --enable-libsoxr --enable-libspeex --enable-libssh --enable-libtheora --enable-libtwolame --enable-libvorbis --enable-libvpx --enable-libwavpack --enable-libwebp --enable-libx265 --enable-libxml2 --enable-libxvid --enable-libzmq --enable-libzvbi --enable-omx --enable-openal --enable-opengl --enable-sdl2 --enable-libdc1394 --enable-libdrm --enable-libiec61883 --enable-chromaprint --enable-frei0r --enable-libopencv --enable-libx264 --enable-shared\n",
      "  libavutil      55. 78.100 / 55. 78.100\n",
      "  libavcodec     57.107.100 / 57.107.100\n",
      "  libavformat    57. 83.100 / 57. 83.100\n",
      "  libavdevice    57. 10.100 / 57. 10.100\n",
      "  libavfilter     6.107.100 /  6.107.100\n",
      "  libavresample   3.  7.  0 /  3.  7.  0\n",
      "  libswscale      4.  8.100 /  4.  8.100\n",
      "  libswresample   2.  9.100 /  2.  9.100\n",
      "  libpostproc    54.  7.100 / 54.  7.100\n",
      "Input #0, image2, from 'movement_plot_animation_steps/frame%010d.png':\n",
      "  Duration: 00:01:32.50, start: 0.000000, bitrate: N/A\n",
      "    Stream #0:0: Video: png, rgba(pc), 1500x1500 [SAR 3937:3937 DAR 1:1], 2 fps, 2 tbr, 2 tbn, 2 tbc\n",
      "Stream mapping:\n",
      "  Stream #0:0 -> #0:0 (png (native) -> h264 (libx264))\n",
      "Press [q] to stop, [?] for help\n",
      "\u001b[1;36m[libx264 @ 0x55b231a5edc0] \u001b[0musing SAR=1/1\n",
      "\u001b[1;36m[libx264 @ 0x55b231a5edc0] \u001b[0musing cpu capabilities: MMX2 SSE2Fast SSSE3 SSE4.2 AVX FMA3 BMI2 AVX2\n",
      "\u001b[1;36m[libx264 @ 0x55b231a5edc0] \u001b[0mprofile High, level 5.0\n",
      "\u001b[1;36m[libx264 @ 0x55b231a5edc0] \u001b[0m264 - core 152 r2854 e9a5903 - H.264/MPEG-4 AVC codec - Copyleft 2003-2017 - http://www.videolan.org/x264.html - options: cabac=1 ref=3 deblock=1:0:0 analyse=0x3:0x113 me=hex subme=7 psy=1 psy_rd=1.00:0.00 mixed_ref=1 me_range=16 chroma_me=1 trellis=1 8x8dct=1 cqm=0 deadzone=21,11 fast_pskip=1 chroma_qp_offset=-2 threads=6 lookahead_threads=1 sliced_threads=0 nr=0 decimate=1 interlaced=0 bluray_compat=0 constrained_intra=0 bframes=3 b_pyramid=2 b_adapt=1 b_bias=0 direct=1 weightb=1 open_gop=0 weightp=2 keyint=250 keyint_min=2 scenecut=40 intra_refresh=0 rc_lookahead=40 rc=crf mbtree=1 crf=25.0 qcomp=0.60 qpmin=0 qpmax=69 qpstep=4 ip_ratio=1.40 aq=1:1.00\n",
      "Output #0, mp4, to 'movement_plot_animation_ffmpeg.mp4':\n",
      "  Metadata:\n",
      "    encoder         : Lavf57.83.100\n",
      "    Stream #0:0: Video: h264 (libx264) (avc1 / 0x31637661), yuv420p, 1500x1500 [SAR 1:1 DAR 1:1], q=-1--1, 2 fps, 16384 tbn, 2 tbc\n",
      "    Metadata:\n",
      "      encoder         : Lavc57.107.100 libx264\n",
      "    Side data:\n",
      "      cpb: bitrate max/min/avg: 0/0/0 buffer size: 0 vbv_delay: -1\n",
      "frame=  185 fps= 37 q=-1.0 Lsize=      61kB time=00:01:31.00 bitrate=   5.5kbits/s speed=18.4x    \n",
      "video:58kB audio:0kB subtitle:0kB other streams:0kB global headers:0kB muxing overhead: 5.185248%\n",
      "\u001b[1;36m[libx264 @ 0x55b231a5edc0] \u001b[0mframe I:1     Avg QP: 4.21  size: 11932\n",
      "\u001b[1;36m[libx264 @ 0x55b231a5edc0] \u001b[0mframe P:59    Avg QP:12.15  size:   436\n",
      "\u001b[1;36m[libx264 @ 0x55b231a5edc0] \u001b[0mframe B:125   Avg QP:10.07  size:   166\n",
      "\u001b[1;36m[libx264 @ 0x55b231a5edc0] \u001b[0mconsecutive B-frames:  1.1% 25.9%  1.6% 71.4%\n",
      "\u001b[1;36m[libx264 @ 0x55b231a5edc0] \u001b[0mmb I  I16..4: 87.6% 10.3%  2.1%\n",
      "\u001b[1;36m[libx264 @ 0x55b231a5edc0] \u001b[0mmb P  I16..4:  0.0%  0.0%  0.0%  P16..4:  1.0%  0.1%  0.0%  0.0%  0.0%    skip:98.9%\n",
      "\u001b[1;36m[libx264 @ 0x55b231a5edc0] \u001b[0mmb B  I16..4:  0.0%  0.0%  0.0%  B16..8:  0.3%  0.0%  0.0%  direct: 0.0%  skip:99.7%  L0:31.7% L1:63.2% BI: 5.2%\n",
      "\u001b[1;36m[libx264 @ 0x55b231a5edc0] \u001b[0m8x8 transform intra:10.5% inter:32.3%\n",
      "\u001b[1;36m[libx264 @ 0x55b231a5edc0] \u001b[0mcoded y,uvDC,uvAC intra: 2.2% 2.4% 2.1% inter: 0.0% 0.0% 0.0%\n",
      "\u001b[1;36m[libx264 @ 0x55b231a5edc0] \u001b[0mi16 v,h,dc,p: 90%  8%  1%  0%\n",
      "\u001b[1;36m[libx264 @ 0x55b231a5edc0] \u001b[0mi8 v,h,dc,ddl,ddr,vr,hd,vl,hu: 67%  1% 32%  0%  0%  0%  0%  0%  0%\n",
      "\u001b[1;36m[libx264 @ 0x55b231a5edc0] \u001b[0mi4 v,h,dc,ddl,ddr,vr,hd,vl,hu: 23% 44% 23%  1%  2%  2%  2%  1%  3%\n",
      "\u001b[1;36m[libx264 @ 0x55b231a5edc0] \u001b[0mi8c dc,h,v,p: 91%  9%  0%  0%\n",
      "\u001b[1;36m[libx264 @ 0x55b231a5edc0] \u001b[0mWeighted P-Frames: Y:0.0% UV:0.0%\n",
      "\u001b[1;36m[libx264 @ 0x55b231a5edc0] \u001b[0mref P L0: 92.3%  0.4%  5.7%  1.6%\n",
      "\u001b[1;36m[libx264 @ 0x55b231a5edc0] \u001b[0mref B L0: 74.5% 21.2%  4.3%\n",
      "\u001b[1;36m[libx264 @ 0x55b231a5edc0] \u001b[0mref B L1: 97.5%  2.5%\n",
      "\u001b[1;36m[libx264 @ 0x55b231a5edc0] \u001b[0mkb/s:5.05\n"
     ]
    }
   ],
   "source": [
    "# NEW: using ffmpeg\n",
    "# ref: https://hamelot.io/visualization/using-ffmpeg-to-convert-a-set-of-images-into-a-video/\n",
    "\n",
    "# !apt install ffmpeg\n",
    "ffmpeg_filename=filename+\"_ffmpeg.mp4\"\n",
    "fps=2\n",
    "frame_size=str(figsize[0]*dpi) + 'x' + str(figsize[1]*dpi)\n",
    "print(\"frame_size\",frame_size)\n",
    "frame_name=buf_folder+\"/\"+\"frame%010d.png\"\n",
    "!ffmpeg -r $fps -f image2 -s $frame_size -i $frame_name -vcodec libx264 -crf 25  -pix_fmt yuv420p -y $ffmpeg_filename"
   ]
  },
  {
   "cell_type": "code",
   "execution_count": 26,
   "id": "4e69f852-5c4b-43f7-9ed1-2a711d6d1768",
   "metadata": {},
   "outputs": [
    {
     "data": {
      "text/html": [
       "\n",
       "<video width=600 controls>\n",
       "      <source src=\"data:video/mp4;base64,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\" type=\"video/mp4\">\n",
       "</video>\n"
      ],
      "text/plain": [
       "<IPython.core.display.HTML object>"
      ]
     },
     "execution_count": 26,
     "metadata": {},
     "output_type": "execute_result"
    }
   ],
   "source": [
    "# Show result in colab\n",
    "# ref: https://stackoverflow.com/questions/57377185/how-play-mp4-video-in-google-colab\n",
    "\n",
    "from IPython.display import HTML\n",
    "from base64 import b64encode\n",
    "import os\n",
    "\n",
    "# Input video path\n",
    "save_path = ffmpeg_filename\n",
    "\n",
    "# Compressed video path\n",
    "compressed_path = filename+\"_ffmpeg_compressed.mp4\"\n",
    "\n",
    "os.system(f\"ffmpeg -i {save_path} -vcodec libx264 -y {compressed_path}\")\n",
    "\n",
    "# Show video\n",
    "mp4 = open(compressed_path,'rb').read()\n",
    "data_url = \"data:video/mp4;base64,\" + b64encode(mp4).decode()\n",
    "HTML(\"\"\"\n",
    "<video width=600 controls>\n",
    "      <source src=\"%s\" type=\"video/mp4\">\n",
    "</video>\n",
    "\"\"\" % data_url)"
   ]
  },
  {
   "cell_type": "code",
   "execution_count": 7,
   "id": "94c2cf4c-e4a0-4b42-885e-d5e1482b57bf",
   "metadata": {},
   "outputs": [],
   "source": [
    "from shapely.geometry import Polygon\n",
    "import math"
   ]
  },
  {
   "cell_type": "code",
   "execution_count": 13,
   "id": "34afa49c-a022-40fe-84fd-083a7a9ef80a",
   "metadata": {},
   "outputs": [
    {
     "data": {
      "text/plain": [
       "[<matplotlib.lines.Line2D at 0x7ffa330d1eb0>,\n",
       " <matplotlib.lines.Line2D at 0x7ffa330d1ee0>]"
      ]
     },
     "execution_count": 13,
     "metadata": {},
     "output_type": "execute_result"
    },
    {
     "data": {
      "image/png": "[encoded data removed]",
      "text/plain": [
       "<Figure size 432x288 with 1 Axes>"
      ]
     },
     "metadata": {
      "needs_background": "light"
     },
     "output_type": "display_data"
    }
   ],
   "source": [
    "import matplotlib.pyplot as plt\n",
    "upperbound = Polygon([(-4,2),(-4,3),(4,3),(4,2)])\n",
    "Lowerbound = Polygon([(-4,-3),(-4,-2),(4,-2),(4,-3)])\n",
    "\n",
    "x1,y1 = upperbound.exterior.xy\n",
    "x2,y2 = Lowerbound.exterior.xy\n",
    "plt.plot(x1,y1,x2,y2)"
   ]
  }
 ],
 "metadata": {
  "kernelspec": {
   "display_name": "Python 3",
   "language": "python",
   "name": "python3"
  },
  "language_info": {
   "codemirror_mode": {
    "name": "ipython",
    "version": 3
   },
   "file_extension": ".py",
   "mimetype": "text/x-python",
   "name": "python",
   "nbconvert_exporter": "python",
   "pygments_lexer": "ipython3",
   "version": "3.8.8"
  }
 },
 "nbformat": 4,
 "nbformat_minor": 5
}
